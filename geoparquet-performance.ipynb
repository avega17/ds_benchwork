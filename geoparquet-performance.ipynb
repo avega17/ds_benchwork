{
 "cells": [
  {
   "cell_type": "markdown",
   "metadata": {},
   "source": [
    "# Geospatial file format Performance Evaluation\n",
    "\n",
    "This notebook contains: \n",
    "- An Overview of the GeoParquet standard\n",
    "- Benchmark code for evaluating the GeoParquet file format using the following datasets:\n",
    "    - The [Google-Microsoft combined Open Buildings](https://beta.source.coop/vida/google-microsoft-open-buildings/) for 2D building footprint data\n",
    "    - The [Overture buildings dataset](https://medium.com/mapular/overture-maps-a-fusion-of-open-and-commercial-data-for-a-new-era-in-mapping-f26b4b56ad9a) for 2.5D building data\n",
    "        - Explore the impact of Overture's \n",
    "- A discussion of the current state of cloud-optimized geospatial file formats generally and the potential of GeoParquet specifically"
   ]
  },
  {
   "cell_type": "markdown",
   "metadata": {},
   "source": [
    "# Introduction\n",
    "\n",
    " GeoParquet is [an incubating Open Geospatial Consortium (OGC) standard](https://geoparquet.org/) that simply adds compatible geospatial [geometry types](https://docs.safe.com/fme/html/FME-Form-Documentation/FME-ReadersWriters/geoparquet/Geometry-Support.htm) (MultiPoint, Line, Polygon, etc) to the mature and widely adopted Apache Parquet format, a popular columnar storage format commonly used in big data processing. Parquet is a mature file format and has a wide ecosystem that GeoParquet seamlessly integrates with. This is analogous to how the GeoTIFF raster format adds geospatial metadata to the TIFF standard. GeoParquet is designed to be a simple and efficient way to store geospatial *vector* data in a columnar format, and is designed to be compatible with existing Parquet tools and libraries to enable Cloud _Data Warehouse_ Interopability. \n",
    "\n",
    "A Parquet file is made up of a a set of file chunks called \"row groups\". Row groups are logical groups of columns with the same number of rows. Each of these columns is actually a \"column chunk\" which is a contiguous block of data for that column. The schema across row groups must be consistent, ie the data types and number of columns must be the same for every row group. The new standard adds some relevant additional metadata such as the geometry's Coordinate Reference System (CRS), additional metadata for geometry columns, and future realeses will enable support for spatial indexing. [Spatial indexing](https://towardsdatascience.com/geospatial-data-engineering-spatial-indexing-18200ef9160b) is a technique used to optimize spatial queries by indexing or partitioning the data based on its geometry features such that you can make spatial queries (e.g. intersection, within, within x distance, etc) more efficiently. \n",
    "\n",
    "<figure>\n",
    "<img src=\"https://miro.medium.com/v2/resize:fit:1400/1*QEQJjtnDb3JQ2xqhzARZZw.png\" style=\"width:100%\">\n",
    "<figcaption align = \"center\"> Visualization of the layout of a Parquet file </figcaption>\n",
    "</figure>\n",
    "\n",
    "Beyond the file data itself, Parquet also stores metadata at the end of the file that describes the internal \"chunking\" of the file, byte ranges of every column chunks, several column statistics, among other things. \n",
    "\n",
    "<figure>\n",
    "<img src=\"https://guide.cloudnativegeo.org/images/geoparquet_layout.png\" style=\"width:100%\">\n",
    "<figcaption align = \"center\"> GeoParquet has the same laylout with additional metadata </figcaption>\n",
    "</figure>\n",
    "\n",
    " \n",
    "\n",
    "## Features and Advantages\n",
    "\n",
    "- Efficient storage and compression: \n",
    "    - leverages the columnar data format which is more efficient for filtering on columns\n",
    "    - GeoParquet is internally compressed by default, and can be configured to optimize decompression time or storage size depending on the use case\n",
    "    - These make it ideal for applications dealing with _massive_ geospatial datasets and cloud data warehouses\n",
    "- Scalability and High-Performance:\n",
    "    - the nature of the file format is well-suited for parallel and/or distributed processing such as in Spark, Dask, or Hadoop\n",
    "    - Support for data partitioning: \n",
    "        - Parquet files can be partitioned by one or more columns\n",
    "        - In the geospatial context this enables efficient spatial queries and filtering (e.g. partitioning by ISO country code) \n",
    "- Optimized for *read-heavy workflows*: \n",
    "    - Parquet is an immutable file format, which means taking advantage of cheap reads, and efficient filtering and aggregation operations\n",
    "        - This is ideal for data warehousing and modern analytic workflows \n",
    "        - Best paired with Analytical Databases like Amazon Redshift, Google BigQuery, or DuckDB\n",
    "        - Ideal for OLAP (Online Analytical Processing) and BI (Business Intelligence) workloads that leverage historical and aggregated data that don't require frequent updates\n",
    " - Interoperability and wide ecosystem:\n",
    "    - GeoParquet is designed to be compatible with existing Parquet readers, tools, and libraries\n",
    "    - Facilitates integration into existing data pipelines and workflows\n",
    "    - Broad compatibility:\n",
    "        - support for multiple spatial reference systems \n",
    "        - support for multiple geometry types and multiple geometry columns\n",
    "        - works with both planar and spherical coordinates \n",
    "        - support for 2D and 3D geometries\n",
    "        \n",
    "## Limitations and Disadvantages\n",
    "\n",
    "- Poorly suited for write-heavy workflows:\n",
    "    - Transactional and CRUD (Create, Read, Update, Delete) operations are not well-suited for Parquet files\n",
    "    - Not recommended for applications that require frequent updates or real-time data ingestion\n",
    "- Not a Silver Bullet for all geospatial data:\n",
    "    - deals only with vector data, not raster data\n",
    "    - storage and compression benefits require a certain scale of data to be realized\n",
    "    - performance overhead for small datasets\n",
    "- Limited support for spatial indexing:\n",
    "    - GeoParquet did not implement spatial indexing in the 1.0.0 release\n",
    "    - This is planned for future release in "
   ]
  },
  {
   "cell_type": "markdown",
   "metadata": {},
   "source": [
    "# Benchmark Results"
   ]
  },
  {
   "cell_type": "code",
   "execution_count": 1,
   "metadata": {},
   "outputs": [
    {
     "name": "stdout",
     "output_type": "stream",
     "text": [
      "Open buildings data will be saved to:  /Volumes/NAS_Base/nas_data/geospatial/google-ms-open-buildings\n"
     ]
    }
   ],
   "source": [
    "from dotenv import load_dotenv\n",
    "import os\n",
    "\n",
    "# Constants and local env configuration\n",
    "load_dotenv() # take environment variables from .env \n",
    "\n",
    "# URI for combined open buildings data\n",
    "combined_open_buildings_uri = \"https://data.source.coop/vida/google-microsoft-open-buildings/geoparquet/by_country\"\n",
    "\n",
    "# use filepath loaded from env   \n",
    "open_buildings_path = os.getenv(\"DATA_DIR\") \n",
    "print(\"Open buildings data will be saved to: \", open_buildings_path)\n",
    "# list of ISO country codes to fetch \n",
    "# buildings_countries = [\"USA\"]\n",
    "buildings_countries = [\"AUS\"]\n",
    "file_fmt_map = {\"geojson\":\".geojson\", \"shapefile\":\".shp\", \"flatgeobuf\":\".fgb\", \"geopackage\":\".gpkg\"}\n",
    "compression_types = [\"snappy\", \"gzip\", \"brotli\", None]"
   ]
  },
  {
   "cell_type": "markdown",
   "metadata": {},
   "source": [
    "### Filesystem performance comparison"
   ]
  },
  {
   "cell_type": "code",
   "execution_count": 2,
   "metadata": {},
   "outputs": [],
   "source": [
    "import gdaltools\n",
    "import geopandas as gpd\n",
    "import pandas as pd\n",
    "from tqdm import tqdm\n",
    "import urllib.request\n",
    "# import time library to show download time\n",
    "import time\n",
    "import os\n",
    "\n",
    "def download_with_progress(url, local_file_path):\n",
    "    response = urllib.request.urlopen(url)\n",
    "    total_size = int(response.getheader('Content-Length').strip())\n",
    "    block_size = 1024  # 1 Kibibyte\n",
    "\n",
    "    with open(local_file_path, 'wb') as file, tqdm(\n",
    "        desc=local_file_path,\n",
    "        total=total_size,\n",
    "        unit='iB',\n",
    "        unit_scale=True,\n",
    "        unit_divisor=1024,\n",
    "    ) as bar:\n",
    "        while True:\n",
    "            buffer = response.read(block_size)\n",
    "            if not buffer:\n",
    "                break\n",
    "            file.write(buffer)\n",
    "            bar.update(len(buffer))\n",
    "\n",
    "def fetch_geoparquet(country_code, output_dir):\n",
    "    \n",
    "    # fetch geoparquet from source.coop\n",
    "    url = f\"{combined_open_buildings_uri}/country_iso={country_code}/{country_code}.parquet\"\n",
    "    output_file = f\"{output_dir}/{country_code}.parquet\"\n",
    "    print(f\"Downloading {country_code}.parquet from:\\n {url}\")\n",
    "    t1 = time.time()\n",
    "    download_with_progress(url, output_file)\n",
    "    t2 = time.time()\n",
    "    print(f\"Succesfully downloaded {country_code}.parquet in {t2-t1} seconds and saved to {output_file}\")\n",
    "    return output_file\n",
    "\n",
    "def load_geodataframe(input_file, country_code):\n",
    "\n",
    "    # load geopandas dataframe from geoparquet\n",
    "    try:\n",
    "        input_df = gpd.read_parquet(input_file)\n",
    "        input_df.name = country_code\n",
    "        print(f\"Successfully loaded {country_code}.parquet into geopandas dataframe\")\n",
    "    except Exception as e:\n",
    "        print(f\"Error loading {country_code}.parquet into geopandas dataframe: {e}\")\n",
    "    return input_df\n",
    "\n",
    "def get_output_path(input_file, output_format):\n",
    "    # output path is same as input, but up two \n",
    "    # input has form /path/to/data/format/country_code.format\n",
    "    country_code = input_file.split(\"/\")[-1].split(\".\")[0] # use same country code for output file name\n",
    "    output_file = \"/\".join(input_file.split(\"/\")[:-2]) \n",
    "    # output file format is /path/to/data/format/country_code.format\n",
    "    output_file = f\"{output_file}/{output_format}/{country_code}{file_fmt_map[output_format]}\"\n",
    "    return output_file\n",
    "\n",
    "# use ogr2ogr to convert geoparquet to our target formats; delete output file and return time taken and file size\n",
    "def ogr_gdal_convert(input_file, output_format, delete_output=True):\n",
    "\n",
    "    output_file = get_output_path(input_file, output_format)\n",
    "    convert_time = time.time()\n",
    "    # use pygdaltools to convert via ogr2ogr\n",
    "    try: \n",
    "        \n",
    "        ogr = gdaltools.ogr2ogr()\n",
    "        ogr.set_input(input_file)\n",
    "        ogr.set_output(output_file)\n",
    "        ogr.execute()\n",
    "        t2 = time.time()\n",
    "        convert_time = t2 - convert_time\n",
    "        print(gdaltools.gdalinfo(output_file))\n",
    "    except Exception as e:\n",
    "        print(f\"Error converting {input_file} to {output_format}: {e}\")\n",
    "\n",
    "    # calculate file size of converted file and convert to MB\n",
    "    file_size = os.path.getsize(output_file) / (1024 * 1024)\n",
    "    # delete output file\n",
    "    if delete_output:\n",
    "        os.remove(output_file)\n",
    "    print(f\"Successfully converted {input_file} to {output_format} in {convert_time} seconds and saved to {output_file}. Converted file size: {file_size} MB\")\n",
    "        \n",
    "    return convert_time, file_size\n",
    "\n",
    "# use geopandas to save to our target formats from existing dataframe; delete output file and return time taken and file size\n",
    "\n",
    "def geopandas_convert(input_df, output_format, delete_output=True):\n",
    "    \n",
    "    # get country_code from input_df\n",
    "    country_code = input_df[\"\"]\n",
    "    output_file = f\"{open_buildings_path}/{output_format}/{input_df.name}{file_fmt_map[output_format]}\"\n",
    "    convert_time = time.time()\n",
    "    try:\n",
    "        input_df.to_file()\n",
    "        t2 = time.time()\n",
    "        convert_time = t2 - convert_time\n",
    "    except Exception as e:\n",
    "        print(f\"Error converting {input_df} to {output_format}: {e}\")\n",
    "\n",
    "    # calculate file size of converted file and convert to MB\n",
    "    file_size = os.path.getsize(output_file) / (1024 * 1024)\n",
    "    # delete output file\n",
    "    if delete_output:\n",
    "        os.remove(output_file)\n",
    "    print(f\"Successfully converted {input_df} to {output_format} in {convert_time} seconds and saved to {output_file}. Converted file size: {file_size} MB\")\n",
    "\n",
    "    return convert_time, file_size\n",
    "\n",
    "# use duckdb to read in geoparquet and save to our target formats\n",
    "def duckdb_convert(input_file, output_format):\n",
    "    output_file = get_output_path(input_file, output_format)\n",
    "\n",
    "# receive geopandas df, save file to disk using specified algorithm, delete output file and return time taken and file size\n",
    "def gdf_to_compressed_geoparquet(input_df, compression_type):\n",
    "    output_file = f\"{open_buildings_path}/geoparquet/{input_df.name}_{compression_type}.parquet\"\n",
    "    convert_time = time.time()\n",
    "\n",
    "    try:\n",
    "        input_df.to_parquet(output_file, compression=compression_type, schema_version='1.0.0')\n",
    "        t2 = time.time()\n",
    "        convert_time = t2 - convert_time\n",
    "    except Exception as e:\n",
    "        print(f\"Error saving {input_df} to geoparquet compressed with {compression_type}: {e}\")\n",
    "    \n",
    "    # calculate file size of converted file and convert to MB\n",
    "    file_size = os.path.getsize(output_file) / (1024 * 1024)\n",
    "    # delete output file\n",
    "    os.remove(output_file)\n",
    "    print(f\"Successfully saved {input_df} to geoparquet compressed with {compression_type} in {convert_time} seconds and saved to {output_file}. Converted file size: {file_size} MB\")    \n",
    "\n",
    "    return convert_time, file_size"
   ]
  },
  {
   "cell_type": "code",
   "execution_count": 3,
   "metadata": {},
   "outputs": [
    {
     "name": "stdout",
     "output_type": "stream",
     "text": [
      "Downloading AUS.parquet from:\n",
      " https://data.source.coop/vida/google-microsoft-open-buildings/geoparquet/by_country/country_iso=AUS/AUS.parquet\n"
     ]
    },
    {
     "name": "stderr",
     "output_type": "stream",
     "text": [
      "/Volumes/NAS_Base/nas_data/geospatial/google-ms-open-buildings/parquet/AUS.parquet: 100%|██████████| 953M/953M [00:13<00:00, 72.1MiB/s] \n"
     ]
    },
    {
     "name": "stdout",
     "output_type": "stream",
     "text": [
      "Succesfully downloaded AUS.parquet in 14.645353078842163 seconds and saved to /Volumes/NAS_Base/nas_data/geospatial/google-ms-open-buildings/parquet/AUS.parquet\n",
      "Error converting /Volumes/NAS_Base/nas_data/geospatial/google-ms-open-buildings/parquet/AUS.parquet to geojson: [Errno 2] No such file or directory: '/usr/bin/ogr2ogr'\n"
     ]
    },
    {
     "ename": "FileNotFoundError",
     "evalue": "[Errno 2] No such file or directory: '/Volumes/NAS_Base/nas_data/geospatial/google-ms-open-buildings/geojson/AUS.geojson'",
     "output_type": "error",
     "traceback": [
      "\u001b[0;31m---------------------------------------------------------------------------\u001b[0m",
      "\u001b[0;31mFileNotFoundError\u001b[0m                         Traceback (most recent call last)",
      "Cell \u001b[0;32mIn[3], line 26\u001b[0m\n\u001b[1;32m     24\u001b[0m benchmark_stats[country_code][output_format] \u001b[38;5;241m=\u001b[39m stats\u001b[38;5;241m.\u001b[39mcopy() \n\u001b[1;32m     25\u001b[0m \u001b[38;5;66;03m# gdal/ogr2ogr conversion\u001b[39;00m\n\u001b[0;32m---> 26\u001b[0m ogr_time, ogr_size \u001b[38;5;241m=\u001b[39m \u001b[43mogr_gdal_convert\u001b[49m\u001b[43m(\u001b[49m\u001b[43minput_file\u001b[49m\u001b[43m,\u001b[49m\u001b[43m \u001b[49m\u001b[43moutput_format\u001b[49m\u001b[43m)\u001b[49m\n\u001b[1;32m     27\u001b[0m \u001b[38;5;66;03m# geopandas conversion\u001b[39;00m\n\u001b[1;32m     28\u001b[0m country_gdf \u001b[38;5;241m=\u001b[39m load_geodataframe(input_file, country_code)\n",
      "Cell \u001b[0;32mIn[2], line 80\u001b[0m, in \u001b[0;36mogr_gdal_convert\u001b[0;34m(input_file, output_format, delete_output)\u001b[0m\n\u001b[1;32m     77\u001b[0m     \u001b[38;5;28mprint\u001b[39m(\u001b[38;5;124mf\u001b[39m\u001b[38;5;124m\"\u001b[39m\u001b[38;5;124mError converting \u001b[39m\u001b[38;5;132;01m{\u001b[39;00minput_file\u001b[38;5;132;01m}\u001b[39;00m\u001b[38;5;124m to \u001b[39m\u001b[38;5;132;01m{\u001b[39;00moutput_format\u001b[38;5;132;01m}\u001b[39;00m\u001b[38;5;124m: \u001b[39m\u001b[38;5;132;01m{\u001b[39;00me\u001b[38;5;132;01m}\u001b[39;00m\u001b[38;5;124m\"\u001b[39m)\n\u001b[1;32m     79\u001b[0m \u001b[38;5;66;03m# calculate file size of converted file and convert to MB\u001b[39;00m\n\u001b[0;32m---> 80\u001b[0m file_size \u001b[38;5;241m=\u001b[39m \u001b[43mos\u001b[49m\u001b[38;5;241;43m.\u001b[39;49m\u001b[43mpath\u001b[49m\u001b[38;5;241;43m.\u001b[39;49m\u001b[43mgetsize\u001b[49m\u001b[43m(\u001b[49m\u001b[43moutput_file\u001b[49m\u001b[43m)\u001b[49m \u001b[38;5;241m/\u001b[39m (\u001b[38;5;241m1024\u001b[39m \u001b[38;5;241m*\u001b[39m \u001b[38;5;241m1024\u001b[39m)\n\u001b[1;32m     81\u001b[0m \u001b[38;5;66;03m# delete output file\u001b[39;00m\n\u001b[1;32m     82\u001b[0m \u001b[38;5;28;01mif\u001b[39;00m delete_output:\n",
      "File \u001b[0;32m/Volumes/Expanse/mambaforge/envs/geospatial/lib/python3.10/genericpath.py:50\u001b[0m, in \u001b[0;36mgetsize\u001b[0;34m(filename)\u001b[0m\n\u001b[1;32m     48\u001b[0m \u001b[38;5;28;01mdef\u001b[39;00m \u001b[38;5;21mgetsize\u001b[39m(filename):\n\u001b[1;32m     49\u001b[0m \u001b[38;5;250m    \u001b[39m\u001b[38;5;124;03m\"\"\"Return the size of a file, reported by os.stat().\"\"\"\u001b[39;00m\n\u001b[0;32m---> 50\u001b[0m     \u001b[38;5;28;01mreturn\u001b[39;00m \u001b[43mos\u001b[49m\u001b[38;5;241;43m.\u001b[39;49m\u001b[43mstat\u001b[49m\u001b[43m(\u001b[49m\u001b[43mfilename\u001b[49m\u001b[43m)\u001b[49m\u001b[38;5;241m.\u001b[39mst_size\n",
      "\u001b[0;31mFileNotFoundError\u001b[0m: [Errno 2] No such file or directory: '/Volumes/NAS_Base/nas_data/geospatial/google-ms-open-buildings/geojson/AUS.geojson'"
     ]
    }
   ],
   "source": [
    "# start benchmarking \n",
    "\n",
    "# go through each country code, fetch geoparquet, convert to target formats, and records some stats\n",
    "\n",
    "stats = {\n",
    "            \"processing_time\": [], # for different conversion methods (ogr2ogr, geopandas, duckdb)\n",
    "            \"file_size\": 0, # for different file formats\n",
    "            \"compression_size\": [], # for different compression types\n",
    "            \"compression_time\": [] # for different compression types\n",
    "        }\n",
    "benchmark_stats = {}\n",
    "\n",
    "for country_code in buildings_countries:\n",
    "    # download geoparquet for each benchmarked country \n",
    "    parquet_path = f\"{open_buildings_path}/parquet\"\n",
    "    input_file = fetch_geoparquet(country_code, parquet_path)\n",
    "    benchmark_stats[country_code] = {}\n",
    "    \n",
    "    # calculate processing time and file size for geoparquet \n",
    "    parquet_file_size = os.path.getsize(input_file) / (1024 * 1024)\n",
    "    \n",
    "    for output_format in file_fmt_map.keys():\n",
    "        # initialize stats for country_code and output_format\n",
    "        benchmark_stats[country_code][output_format] = stats.copy() \n",
    "        # gdal/ogr2ogr conversion\n",
    "        ogr_time, ogr_size = ogr_gdal_convert(input_file, output_format)\n",
    "        # geopandas conversion\n",
    "        country_gdf = load_geodataframe(input_file, country_code)\n",
    "        gpd_time, gpd_size = geopandas_convert(country_gdf, output_format)\n",
    "        # duckdb conversion\n",
    "        # TODO: implement duckdb conversion\n",
    "\n",
    "        # compress geopandas dataframe\n",
    "        for compression_type in compression_types:\n",
    "            compress_time, compress_size = gdf_to_compressed_geoparquet(country_gdf, compression_type)\n",
    "            benchmark_stats[country_code][output_format][\"compression_time\"].append(compress_time)\n",
    "            benchmark_stats[country_code][output_format][\"compression_size\"].append(compress_size)\n",
    "        \n",
    "        # record stats\n",
    "        benchmark_stats[country_code][output_format][\"processing_time\"] = [ogr_time, gpd_time]\n",
    "        # file size for a given format should be mostly the same, so we take the max\n",
    "        benchmark_stats[\"file_size\"] = max(ogr_size, gpd_size) \n",
    "        # DEBUG\n",
    "        print(f\"file sizes for {output_format}: ogr/gdal:{ogr_size}, geopandas:{gpd_size}\")\n",
    "        \n",
    "# sample stats for first country code\n",
    "test_stats = benchmark_stats[buildings_countries[0]]\n",
    "# load stats into a pandas dataframe and add output_format as a column\n",
    "test_df = pd.DataFrame.from_dict(test_stats, orient='index').reset_index().rename(columns={\"index\":\"output_format\"})\n",
    "# display stats\n",
    "print(test_df)"
   ]
  },
  {
   "cell_type": "markdown",
   "metadata": {},
   "source": [
    "### Querying in-memory with GeoPandas "
   ]
  },
  {
   "cell_type": "markdown",
   "metadata": {},
   "source": [
    "### Querying from files with DuckDB"
   ]
  },
  {
   "cell_type": "markdown",
   "metadata": {},
   "source": [
    "### Visualization with Basemaps"
   ]
  },
  {
   "cell_type": "markdown",
   "metadata": {},
   "source": [
    "### 3D Data with Overture"
   ]
  },
  {
   "cell_type": "markdown",
   "metadata": {},
   "source": [
    "# Discussion on cloud-native geospatial data formats"
   ]
  },
  {
   "cell_type": "markdown",
   "metadata": {},
   "source": [
    "# References\n",
    "- https://geoparquet.org/\n",
    "- https://geopandas.org/\n",
    "- https://radiant.earth/blog/2023/10/what-is-source-cooperative/\n",
    "- https://guide.cloudnativegeo.org/geoparquet/\n",
    "- https://medium.com/mapular/overture-maps-a-fusion-of-open-and-commercial-data-for-a-new-era-in-mapping-f26b4b56ad9a\n",
    "- https://towardsdatascience.com/geospatial-data-engineering-spatial-indexing-18200ef9160b\n",
    "- https://github.com/opengeospatial/geoparquet/blob/main/format-specs/geoparquet.md \n",
    "- https://medium.com/radiant-earth-insights/geoparquet-1-1-coming-soon-9b72c900fbf2"
   ]
  }
 ],
 "metadata": {
  "kernelspec": {
   "display_name": "geospatial",
   "language": "python",
   "name": "python3"
  },
  "language_info": {
   "codemirror_mode": {
    "name": "ipython",
    "version": 3
   },
   "file_extension": ".py",
   "mimetype": "text/x-python",
   "name": "python",
   "nbconvert_exporter": "python",
   "pygments_lexer": "ipython3",
   "version": "3.10.14"
  }
 },
 "nbformat": 4,
 "nbformat_minor": 2
}
