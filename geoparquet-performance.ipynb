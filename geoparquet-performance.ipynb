{
 "cells": [
  {
   "cell_type": "markdown",
   "metadata": {},
   "source": [
    "# Geospatial file format Performance Evaluation\n",
    "\n",
    "This notebook contains: \n",
    "- An Overview of the GeoParquet standard\n",
    "- Benchmark code for evaluating the GeoParquet file format using the following datasets:\n",
    "    - The [Google-Microsoft combined Open Buildings](https://beta.source.coop/vida/google-microsoft-open-buildings/) for 2D building footprint data\n",
    "    - The [Overture buildings dataset](https://medium.com/mapular/overture-maps-a-fusion-of-open-and-commercial-data-for-a-new-era-in-mapping-f26b4b56ad9a) for 2.5D building data\n",
    "        - Explore the impact of Overture's \n",
    "- A discussion of the current state of cloud-optimized geospatial file formats generally and the potential of GeoParquet specifically"
   ]
  },
  {
   "cell_type": "markdown",
   "metadata": {},
   "source": [
    "# Introduction\n",
    "\n",
    " GeoParquet is [an incubating Open Geospatial Consortium (OGC) standard](https://geoparquet.org/) that simply adds compatible geospatial [geometry types](https://docs.safe.com/fme/html/FME-Form-Documentation/FME-ReadersWriters/geoparquet/Geometry-Support.htm) (MultiPoint, Line, Polygon, etc) to the mature and widely adopted Apache Parquet format, a popular columnar storage format commonly used in big data processing. Parquet is a mature file format and has a wide ecosystem that GeoParquet seamlessly integrates with. This is analogous to how the GeoTIFF raster format adds geospatial metadata to the TIFF standard. GeoParquet is designed to be a simple and efficient way to store geospatial *vector* data in a columnar format, and is designed to be compatible with existing Parquet tools and libraries to enable Cloud _Data Warehouse_ Interopability. \n",
    "\n",
    "A Parquet file is made up of a a set of file chunks called \"row groups\". Row groups are logical groups of columns with the same number of rows. Each of these columns is actually a \"column chunk\" which is a contiguous block of data for that column. The schema across row groups must be consistent, ie the data types and number of columns must be the same for every row group. The new geospatial standard adds some relevant additional metadata such as the geometry's Coordinate Reference System (CRS), additional metadata for geometry columns, and future realeses will enable support for spatial indexing. [Spatial indexing](https://towardsdatascience.com/geospatial-data-engineering-spatial-indexing-18200ef9160b) is a technique used to optimize spatial queries by indexing or partitioning the data based on its geometry features such that you can make spatial queries (e.g. intersection, within, within x distance, etc) more efficiently. \n",
    "\n",
    "<figure>\n",
    "<img src=\"https://miro.medium.com/v2/resize:fit:1400/1*QEQJjtnDb3JQ2xqhzARZZw.png\" style=\"width:100%\">\n",
    "<figcaption align = \"center\"> Visualization of the layout of a Parquet file </figcaption>\n",
    "</figure>\n",
    "\n",
    "Beyond the file data itself, Parquet also stores metadata at the end of the file that describes the internal \"chunking\" of the file, byte ranges of every column chunks, several column statistics, among other things. \n",
    "\n",
    "<figure>\n",
    "<img src=\"https://guide.cloudnativegeo.org/images/geoparquet_layout.png\" style=\"width:100%\">\n",
    "<figcaption align = \"center\"> GeoParquet has the same laylout with additional metadata </figcaption>\n",
    "</figure>\n",
    "\n",
    " \n",
    "\n",
    "## Features and Advantages\n",
    "\n",
    "- Efficient storage and compression: \n",
    "    - leverages the columnar data format which is more efficient for filtering on columns\n",
    "    - GeoParquet is internally compressed by default, and can be configured to optimize decompression time or storage size depending on the use case\n",
    "    - These make it ideal for applications dealing with _massive_ geospatial datasets and cloud data warehouses\n",
    "- Scalability and High-Performance:\n",
    "    - the nature of the file format is well-suited for parallel and/or distributed processing such as in Spark, Dask, or Hadoop\n",
    "    - Support for data partitioning: \n",
    "        - Parquet files can be partitioned by one or more columns\n",
    "        - In the geospatial context this enables efficient spatial queries and filtering (e.g. partitioning by ISO country code) \n",
    "- Optimized for *read-heavy workflows*: \n",
    "    - Parquet is an immutable file format, which means taking advantage of cheap reads, and efficient filtering and aggregation operations\n",
    "        - This is ideal for data warehousing and modern analytic workflows \n",
    "        - Best paired with Analytical Databases like Amazon Redshift, Google BigQuery, or DuckDB\n",
    "        - Ideal for OLAP (Online Analytical Processing) and BI (Business Intelligence) workloads that leverage historical and aggregated data that don't require frequent updates\n",
    " - Interoperability and wide ecosystem:\n",
    "    - GeoParquet is designed to be compatible with existing Parquet readers, tools, and libraries\n",
    "    - Facilitates integration into existing data pipelines and workflows\n",
    "    - Broad compatibility:\n",
    "        - support for multiple spatial reference systems \n",
    "        - support for multiple geometry types and multiple geometry columns\n",
    "        - works with both planar and spherical coordinates \n",
    "        - support for 2D and 3D geometries\n",
    "        \n",
    "## Limitations and Disadvantages\n",
    "\n",
    "- Poorly suited for write-heavy workflows:\n",
    "    - Transactional and CRUD (Create, Read, Update, Delete) operations are not well-suited for Parquet files\n",
    "    - Not recommended for applications that require frequent updates or real-time data ingestion\n",
    "- Not a Silver Bullet for all geospatial data:\n",
    "    - deals only with vector data, not raster data\n",
    "    - storage and compression benefits require a certain scale of data to be realized\n",
    "    - performance overhead for small datasets\n",
    "- Limited support for spatial indexing:\n",
    "    - GeoParquet did not implement spatial indexing in the 1.0.0 release\n",
    "    - This is planned for future release in "
   ]
  },
  {
   "cell_type": "markdown",
   "metadata": {},
   "source": [
    "# Benchmark Results"
   ]
  },
  {
   "cell_type": "code",
   "execution_count": 1,
   "metadata": {},
   "outputs": [
    {
     "name": "stdout",
     "output_type": "stream",
     "text": [
      "Open buildings data will be saved to:  C:\\Users\\avega\\OneDrive - Wovenware, Inc\\Projects\\Data-Science\\ds_benchwork\\google-ms-open-buildings\\parquet\n"
     ]
    }
   ],
   "source": [
    "from dotenv import load_dotenv\n",
    "import os\n",
    "import platform\n",
    "\n",
    "# Constants and local env configuration\n",
    "load_dotenv() # take environment variables from .env \n",
    "\n",
    "# use filepath loaded from env   \n",
    "open_buildings_path = os.getenv(\"DATA_DIR\") \n",
    "# make sure to parse as raw string to avoid issues with Windows paths\n",
    "open_buildings_path = r\"{}\".format(open_buildings_path)\n",
    "os.makedirs(os.path.join(open_buildings_path, \"parquet\"), exist_ok=True)\n",
    "print(\"Open buildings data will be saved to: \", os.path.join(open_buildings_path, \"parquet\"))\n",
    "\n",
    "# create env vars dict for use in multiprocessing benchmark scripts\n",
    "env_vars = {\n",
    "    \"CONDA_PREFIX\": os.getenv(\"CONDA_PREFIX\"),\n",
    "    \"GDAL_DRIVER_PATH\": os.getenv(\"GDAL_DRIVER_PATH\"),\n",
    "    \n",
    "}\n",
    "\n",
    "\n",
    "# list of ISO country codes to fetch \n",
    "# buildings_countries = [\"CUB\",\"CHN\", \"AUS\", \"DEU\" \"USA\"]\n",
    "buildings_countries = [\"BRB\", \"CAF\", \"JAM\", \"CUB\", \"GTM\", \"AUS\"]\n",
    "file_fmt_map = {\"geojson\":\".geojson\", \"shapefile\":\".shp\", \"flatgeobuf\":\".fgb\", \"geopackage\":\".gpkg\"}\n",
    "format_gdal_names = {\"geojson\":\"GeoJSON\", \"shapefile\":\"ESRI Shapefile\", \"flatgeobuf\":\"FlatGeobuf\", \"geopackage\":\"GPKG\"}\n",
    "compression_types = [\"snappy\", \"gzip\", \"brotli\", None]"
   ]
  },
  {
   "cell_type": "markdown",
   "metadata": {},
   "source": [
    "### Filesystem performance tests"
   ]
  },
  {
   "cell_type": "code",
   "execution_count": 2,
   "metadata": {},
   "outputs": [],
   "source": [
    "# import utilities for fetching and processing data, and benchmarking functions\n",
    "from benchmark import *"
   ]
  },
  {
   "cell_type": "code",
   "execution_count": null,
   "metadata": {},
   "outputs": [],
   "source": []
  },
  {
   "cell_type": "code",
   "execution_count": 3,
   "metadata": {},
   "outputs": [
    {
     "name": "stdout",
     "output_type": "stream",
     "text": [
      "Testing conversion performance...\n"
     ]
    },
    {
     "name": "stderr",
     "output_type": "stream",
     "text": [
      "Can't load requested DLL: c:\\Users\\avega\\OneDrive - Wovenware, Inc\\Projects\\Data-Science\\ds_benchwork\\.conda\\Library\\lib\\gdalplugins\\ogr_Parquet.dll\n",
      "127: The specified procedure could not be found.\n",
      "\n",
      "Can't load requested DLL: c:\\Users\\avega\\OneDrive - Wovenware, Inc\\Projects\\Data-Science\\ds_benchwork\\.conda\\Library\\lib\\gdalplugins\\ogr_Parquet.dll\n",
      "127: The specified procedure could not be found.\n",
      "\n",
      "Can't load requested DLL: c:\\Users\\avega\\OneDrive - Wovenware, Inc\\Projects\\Data-Science\\ds_benchwork\\.conda\\Library\\lib\\gdalplugins\\ogr_Parquet.dll\n",
      "127: The specified procedure could not be found.\n",
      "\n",
      "Can't load requested DLL: c:\\Users\\avega\\OneDrive - Wovenware, Inc\\Projects\\Data-Science\\ds_benchwork\\.conda\\Library\\lib\\gdalplugins\\ogr_Parquet.dll\n",
      "127: The specified procedure could not be found.\n",
      "\n"
     ]
    },
    {
     "ename": "DriverError",
     "evalue": "'C:\\Users\\avega\\OneDrive - Wovenware, Inc\\Projects\\Data-Science\\ds_benchwork\\google-ms-open-buildings\\parquet\\BRB.parquet' not recognized as a supported file format.",
     "output_type": "error",
     "traceback": [
      "\u001b[1;31m---------------------------------------------------------------------------\u001b[0m",
      "\u001b[1;31mRemoteTraceback\u001b[0m                           Traceback (most recent call last)",
      "\u001b[1;31mRemoteTraceback\u001b[0m: \n\"\"\"\nTraceback (most recent call last):\n  File \"fiona\\\\ogrext.pyx\", line 136, in fiona.ogrext.gdal_open_vector\n  File \"fiona\\\\_err.pyx\", line 291, in fiona._err.exc_wrap_pointer\nfiona._err.CPLE_OpenFailedError: 'C:\\Users\\avega\\OneDrive - Wovenware, Inc\\Projects\\Data-Science\\ds_benchwork\\google-ms-open-buildings\\parquet\\BRB.parquet' not recognized as a supported file format.\n\nDuring handling of the above exception, another exception occurred:\n\nTraceback (most recent call last):\n  File \"c:\\Users\\avega\\OneDrive - Wovenware, Inc\\Projects\\Data-Science\\ds_benchwork\\.conda\\Lib\\multiprocessing\\pool.py\", line 125, in worker\n    result = (True, func(*args, **kwds))\n                    ^^^^^^^^^^^^^^^^^^^\n  File \"c:\\Users\\avega\\OneDrive - Wovenware, Inc\\Projects\\Data-Science\\ds_benchwork\\.conda\\Lib\\multiprocessing\\pool.py\", line 51, in starmapstar\n    return list(itertools.starmap(args[0], args[1]))\n           ^^^^^^^^^^^^^^^^^^^^^^^^^^^^^^^^^^^^^^^^^\n  File \"c:\\Users\\avega\\OneDrive - Wovenware, Inc\\Projects\\Data-Science\\ds_benchwork\\benchmark.py\", line 222, in convert_benchmark\n    country_gdf, load_time = load_geodataframe(input_file, country_code, output_format=\"parquet\", test_load=test_load)\n                             ^^^^^^^^^^^^^^^^^^^^^^^^^^^^^^^^^^^^^^^^^^^^^^^^^^^^^^^^^^^^^^^^^^^^^^^^^^^^^^^^^^^^^^^^^\n  File \"c:\\Users\\avega\\OneDrive - Wovenware, Inc\\Projects\\Data-Science\\ds_benchwork\\benchmark.py\", line 60, in load_geodataframe\n    load_time = timer.timeit(number=1)\n                ^^^^^^^^^^^^^^^^^^^^^^\n  File \"c:\\Users\\avega\\OneDrive - Wovenware, Inc\\Projects\\Data-Science\\ds_benchwork\\.conda\\Lib\\timeit.py\", line 180, in timeit\n    timing = self.inner(it, self.timer)\n             ^^^^^^^^^^^^^^^^^^^^^^^^^^\n  File \"<timeit-src>\", line 6, in inner\n  File \"c:\\Users\\avega\\OneDrive - Wovenware, Inc\\Projects\\Data-Science\\ds_benchwork\\benchmark.py\", line 58, in <lambda>\n    timer = timeit.Timer(lambda: gpd.read_file(input_file))\n                                 ^^^^^^^^^^^^^^^^^^^^^^^^^\n  File \"c:\\Users\\avega\\OneDrive - Wovenware, Inc\\Projects\\Data-Science\\ds_benchwork\\.conda\\Lib\\site-packages\\geopandas\\io\\file.py\", line 289, in _read_file\n    return _read_file_fiona(\n           ^^^^^^^^^^^^^^^^^\n  File \"c:\\Users\\avega\\OneDrive - Wovenware, Inc\\Projects\\Data-Science\\ds_benchwork\\.conda\\Lib\\site-packages\\geopandas\\io\\file.py\", line 315, in _read_file_fiona\n    with reader(path_or_bytes, **kwargs) as features:\n         ^^^^^^^^^^^^^^^^^^^^^^^^^^^^^^^\n  File \"c:\\Users\\avega\\OneDrive - Wovenware, Inc\\Projects\\Data-Science\\ds_benchwork\\.conda\\Lib\\site-packages\\fiona\\env.py\", line 457, in wrapper\n    return f(*args, **kwds)\n           ^^^^^^^^^^^^^^^^\n  File \"c:\\Users\\avega\\OneDrive - Wovenware, Inc\\Projects\\Data-Science\\ds_benchwork\\.conda\\Lib\\site-packages\\fiona\\__init__.py\", line 305, in open\n    colxn = Collection(\n            ^^^^^^^^^^^\n  File \"c:\\Users\\avega\\OneDrive - Wovenware, Inc\\Projects\\Data-Science\\ds_benchwork\\.conda\\Lib\\site-packages\\fiona\\collection.py\", line 243, in __init__\n    self.session.start(self, **kwargs)\n  File \"fiona\\\\ogrext.pyx\", line 588, in fiona.ogrext.Session.start\n  File \"fiona\\\\ogrext.pyx\", line 143, in fiona.ogrext.gdal_open_vector\nfiona.errors.DriverError: 'C:\\Users\\avega\\OneDrive - Wovenware, Inc\\Projects\\Data-Science\\ds_benchwork\\google-ms-open-buildings\\parquet\\BRB.parquet' not recognized as a supported file format.\n\"\"\"",
      "\nThe above exception was the direct cause of the following exception:\n",
      "\u001b[1;31mDriverError\u001b[0m                               Traceback (most recent call last)",
      "Cell \u001b[1;32mIn[3], line 2\u001b[0m\n\u001b[0;32m      1\u001b[0m \u001b[38;5;66;03m# run full benchmarking pipeline\u001b[39;00m\n\u001b[1;32m----> 2\u001b[0m conversion_stats, compression_stats \u001b[38;5;241m=\u001b[39m \u001b[43mfull_benchmark\u001b[49m\u001b[43m(\u001b[49m\u001b[43mcountry_list\u001b[49m\u001b[38;5;241;43m=\u001b[39;49m\u001b[43mbuildings_countries\u001b[49m\u001b[43m,\u001b[49m\n\u001b[0;32m      3\u001b[0m \u001b[43m                                                        \u001b[49m\u001b[43mfile_formats\u001b[49m\u001b[38;5;241;43m=\u001b[39;49m\u001b[38;5;28;43mlist\u001b[39;49m\u001b[43m(\u001b[49m\u001b[43mfile_fmt_map\u001b[49m\u001b[38;5;241;43m.\u001b[39;49m\u001b[43mkeys\u001b[49m\u001b[43m(\u001b[49m\u001b[43m)\u001b[49m\u001b[43m)\u001b[49m\u001b[43m,\u001b[49m\n\u001b[0;32m      4\u001b[0m \u001b[43m                                                        \u001b[49m\u001b[43mcompression_types\u001b[49m\u001b[38;5;241;43m=\u001b[39;49m\u001b[43mcompression_types\u001b[49m\u001b[43m,\u001b[49m\n\u001b[0;32m      5\u001b[0m \u001b[43m                                                        \u001b[49m\u001b[43mdata_dir\u001b[49m\u001b[38;5;241;43m=\u001b[39;49m\u001b[43mopen_buildings_path\u001b[49m\u001b[43m,\u001b[49m\n\u001b[0;32m      6\u001b[0m \u001b[43m                                                        \u001b[49m\u001b[43mdelete_output\u001b[49m\u001b[38;5;241;43m=\u001b[39;49m\u001b[38;5;28;43;01mTrue\u001b[39;49;00m\u001b[43m,\u001b[49m\n\u001b[0;32m      7\u001b[0m \u001b[43m                                                        \u001b[49m\u001b[43mtest_load\u001b[49m\u001b[38;5;241;43m=\u001b[39;49m\u001b[38;5;28;43;01mTrue\u001b[39;49;00m\u001b[43m,\u001b[49m\u001b[43m \u001b[49m\n\u001b[0;32m      8\u001b[0m \u001b[43m                                                        \u001b[49m\u001b[43menv_vars\u001b[49m\u001b[38;5;241;43m=\u001b[39;49m\u001b[43menv_vars\u001b[49m\u001b[43m)\u001b[49m\n",
      "File \u001b[1;32mc:\\Users\\avega\\OneDrive - Wovenware, Inc\\Projects\\Data-Science\\ds_benchwork\\benchmark.py:322\u001b[0m, in \u001b[0;36mfull_benchmark\u001b[1;34m(country_list, file_formats, compression_types, data_dir, delete_output, test_load, env_vars)\u001b[0m\n\u001b[0;32m    320\u001b[0m \u001b[38;5;66;03m# use multiprocessing to benchmark conversion performance for each country\u001b[39;00m\n\u001b[0;32m    321\u001b[0m \u001b[38;5;28;01mwith\u001b[39;00m mp\u001b[38;5;241m.\u001b[39mPool(proc_count) \u001b[38;5;28;01mas\u001b[39;00m pool:\n\u001b[1;32m--> 322\u001b[0m     conversion_stats \u001b[38;5;241m=\u001b[39m \u001b[43mpool\u001b[49m\u001b[38;5;241;43m.\u001b[39;49m\u001b[43mstarmap\u001b[49m\u001b[43m(\u001b[49m\u001b[43mconvert_benchmark\u001b[49m\u001b[43m,\u001b[49m\u001b[43m \u001b[49m\u001b[43m[\u001b[49m\u001b[43m(\u001b[49m\u001b[43mcountry_code\u001b[49m\u001b[43m,\u001b[49m\u001b[43m \u001b[49m\u001b[43mfile_formats\u001b[49m\u001b[43m,\u001b[49m\u001b[43m \u001b[49m\u001b[43mdata_dir\u001b[49m\u001b[43m,\u001b[49m\u001b[43m \u001b[49m\u001b[43mdelete_output\u001b[49m\u001b[43m,\u001b[49m\u001b[43m \u001b[49m\u001b[43mtest_load\u001b[49m\u001b[43m)\u001b[49m\u001b[43m \u001b[49m\u001b[38;5;28;43;01mfor\u001b[39;49;00m\u001b[43m \u001b[49m\u001b[43mcountry_code\u001b[49m\u001b[43m \u001b[49m\u001b[38;5;129;43;01min\u001b[39;49;00m\u001b[43m \u001b[49m\u001b[43mcountry_list\u001b[49m\u001b[43m]\u001b[49m\u001b[43m)\u001b[49m\n\u001b[0;32m    323\u001b[0m \u001b[38;5;66;03m# go through results list, flatten and concatenate into single dataframe, then save to csv \u001b[39;00m\n\u001b[0;32m    324\u001b[0m conversion_stas \u001b[38;5;241m=\u001b[39m pd\u001b[38;5;241m.\u001b[39mconcat([flatten_benchmark_stats(stats, \u001b[38;5;124m\"\u001b[39m\u001b[38;5;124moutput_format\u001b[39m\u001b[38;5;124m\"\u001b[39m, [\u001b[38;5;124m\"\u001b[39m\u001b[38;5;124mprocessing_time\u001b[39m\u001b[38;5;124m\"\u001b[39m, \u001b[38;5;124m\"\u001b[39m\u001b[38;5;124mfile_size\u001b[39m\u001b[38;5;124m\"\u001b[39m, \u001b[38;5;124m\"\u001b[39m\u001b[38;5;124mload_time\u001b[39m\u001b[38;5;124m\"\u001b[39m]) \u001b[38;5;28;01mfor\u001b[39;00m stats \u001b[38;5;129;01min\u001b[39;00m conversion_stats])\n",
      "File \u001b[1;32mc:\\Users\\avega\\OneDrive - Wovenware, Inc\\Projects\\Data-Science\\ds_benchwork\\.conda\\Lib\\multiprocessing\\pool.py:375\u001b[0m, in \u001b[0;36mPool.starmap\u001b[1;34m(self, func, iterable, chunksize)\u001b[0m\n\u001b[0;32m    369\u001b[0m \u001b[38;5;28;01mdef\u001b[39;00m \u001b[38;5;21mstarmap\u001b[39m(\u001b[38;5;28mself\u001b[39m, func, iterable, chunksize\u001b[38;5;241m=\u001b[39m\u001b[38;5;28;01mNone\u001b[39;00m):\n\u001b[0;32m    370\u001b[0m \u001b[38;5;250m    \u001b[39m\u001b[38;5;124;03m'''\u001b[39;00m\n\u001b[0;32m    371\u001b[0m \u001b[38;5;124;03m    Like `map()` method but the elements of the `iterable` are expected to\u001b[39;00m\n\u001b[0;32m    372\u001b[0m \u001b[38;5;124;03m    be iterables as well and will be unpacked as arguments. Hence\u001b[39;00m\n\u001b[0;32m    373\u001b[0m \u001b[38;5;124;03m    `func` and (a, b) becomes func(a, b).\u001b[39;00m\n\u001b[0;32m    374\u001b[0m \u001b[38;5;124;03m    '''\u001b[39;00m\n\u001b[1;32m--> 375\u001b[0m     \u001b[38;5;28;01mreturn\u001b[39;00m \u001b[38;5;28;43mself\u001b[39;49m\u001b[38;5;241;43m.\u001b[39;49m\u001b[43m_map_async\u001b[49m\u001b[43m(\u001b[49m\u001b[43mfunc\u001b[49m\u001b[43m,\u001b[49m\u001b[43m \u001b[49m\u001b[43miterable\u001b[49m\u001b[43m,\u001b[49m\u001b[43m \u001b[49m\u001b[43mstarmapstar\u001b[49m\u001b[43m,\u001b[49m\u001b[43m \u001b[49m\u001b[43mchunksize\u001b[49m\u001b[43m)\u001b[49m\u001b[38;5;241;43m.\u001b[39;49m\u001b[43mget\u001b[49m\u001b[43m(\u001b[49m\u001b[43m)\u001b[49m\n",
      "File \u001b[1;32mc:\\Users\\avega\\OneDrive - Wovenware, Inc\\Projects\\Data-Science\\ds_benchwork\\.conda\\Lib\\multiprocessing\\pool.py:774\u001b[0m, in \u001b[0;36mApplyResult.get\u001b[1;34m(self, timeout)\u001b[0m\n\u001b[0;32m    772\u001b[0m     \u001b[38;5;28;01mreturn\u001b[39;00m \u001b[38;5;28mself\u001b[39m\u001b[38;5;241m.\u001b[39m_value\n\u001b[0;32m    773\u001b[0m \u001b[38;5;28;01melse\u001b[39;00m:\n\u001b[1;32m--> 774\u001b[0m     \u001b[38;5;28;01mraise\u001b[39;00m \u001b[38;5;28mself\u001b[39m\u001b[38;5;241m.\u001b[39m_value\n",
      "\u001b[1;31mDriverError\u001b[0m: 'C:\\Users\\avega\\OneDrive - Wovenware, Inc\\Projects\\Data-Science\\ds_benchwork\\google-ms-open-buildings\\parquet\\BRB.parquet' not recognized as a supported file format."
     ]
    }
   ],
   "source": [
    "# run full benchmarking pipeline\n",
    "conversion_stats, compression_stats = full_benchmark(country_list=buildings_countries,\n",
    "                                                        file_formats=list(file_fmt_map.keys()),\n",
    "                                                        compression_types=compression_types,\n",
    "                                                        data_dir=open_buildings_path,\n",
    "                                                        delete_output=True,\n",
    "                                                        test_load=True, \n",
    "                                                        env_vars=env_vars)"
   ]
  },
  {
   "cell_type": "code",
   "execution_count": null,
   "metadata": {},
   "outputs": [],
   "source": [
    "convert_stats = [\"processing_time\", \"file_size\", \"load_time\"]\n",
    "convert_stats_df = flatten_benchmark_stats(stats=conversion_stats, column_name=\"output_format\", stats_names=convert_stats)\n",
    "\n",
    "compress_stats = [\"compression_time\", \"compression_size\", \"load_time\", \"geom_count\"]\n",
    "compress_stats_df = flatten_benchmark_stats(stats=compression_stats, column_name=\"compression_type\", stats_names=compress_stats)"
   ]
  },
  {
   "cell_type": "code",
   "execution_count": null,
   "metadata": {},
   "outputs": [],
   "source": [
    "convert_stats_df"
   ]
  },
  {
   "cell_type": "code",
   "execution_count": null,
   "metadata": {},
   "outputs": [],
   "source": [
    "compress_stats_df"
   ]
  },
  {
   "cell_type": "code",
   "execution_count": null,
   "metadata": {},
   "outputs": [],
   "source": [
    "    # in output format column, change \"parquet\" to \"geoparquet\"\n",
    "    convert_stats_df[\"output_format\"] = convert_stats_df[\"output_format\"].apply(lambda x: \"geoparquet\" if x == \"parquet\" else x)\n",
    "    # add geom_count column to convert_stats_df by joining on country_code\n",
    "    convert_stats_df = convert_stats_df.merge(compress_stats_df[[\"country_code\", \"geom_count\"]], on=\"country_code\")\n",
    "    # display updated convert_stats_df  \n",
    "    convert_stats_df"
   ]
  },
  {
   "cell_type": "code",
   "execution_count": null,
   "metadata": {},
   "outputs": [],
   "source": [
    "convert_stats_df.name = \"Conversion Stats\"\n",
    "# save to csv with country_codes in filename\n",
    "country_codes = \"_\".join(convert_stats_df[\"country_code\"].unique())\n",
    "convert_stats_df.to_csv(f\"{open_buildings_path}/benchmark_{country_codes}_conversion.csv\", index=False)\n",
    "pretty_print_df_info(convert_stats_df)"
   ]
  },
  {
   "cell_type": "markdown",
   "metadata": {},
   "source": [
    "### Plotting performance results"
   ]
  },
  {
   "cell_type": "code",
   "execution_count": null,
   "metadata": {},
   "outputs": [],
   "source": [
    "# functions for plotting stats with seaborn\n",
    "\n",
    "import seaborn as sns\n",
    "\n",
    "def barplot(data, x, y, title, xlabel, ylabel, hue=None, orient='v', color=None, xticks=None, yticks=None, xticklabels=None, yticklabels=None):\n",
    "    # create horizontal barplot\n",
    "    ax = sns.barplot(data=data, x=x, y=y, hue=hue, orient=orient, color=color)\n",
    "    ax.set_xlabel(xlabel)\n",
    "    ax.set_ylabel(ylabel)\n",
    "    \n",
    "    if xticks is not None:\n",
    "        ax.set_xticks(xticks)\n",
    "    if yticks is not None:\n",
    "        ax.set_yticks(yticks)    \n",
    "    if xticklabels is not None:\n",
    "        ax.set_xticklabels(xticklabels)\n",
    "    if yticklabels is not None:\n",
    "        ax.set_yticklabels(yticklabels)\n",
    "\n",
    "def scatter_plot(data, x, y, title, xlabel, ylabel, hue=None, xticks=None, yticks=None, xticklabels=None, yticklabels=None):\n",
    "    # create scatter plot\n",
    "    ax = sns.scatterplot(data=data, x=x, y=y, hue=hue)\n",
    "    ax.set_xlabel(xlabel)\n",
    "    ax.set_ylabel(ylabel)\n",
    "    \n",
    "    if xticks is not None:\n",
    "        ax.set_xticklabels(xticks)\n",
    "    if yticks is not None:\n",
    "        ax.set_yticklabels(yticks)\n",
    "    if xticklabels is not None:\n",
    "        ax.set_xticklabels(xticklabels)\n",
    "    if yticklabels is not None:\n",
    "        ax.set_yticklabels(yticklabels)"
   ]
  },
  {
   "cell_type": "code",
   "execution_count": null,
   "metadata": {},
   "outputs": [],
   "source": [
    "# create a grouped bar plot where y is file size and x is file format and file sizes are grouped by country code\n",
    "barplot(data=convert_stats_df, x=\"output_format\", y=\"file_size\", title=\"File size by output format\", xlabel=\"Output format\", ylabel=\"File size (MB)\", hue=\"country_code\")"
   ]
  },
  {
   "cell_type": "code",
   "execution_count": null,
   "metadata": {},
   "outputs": [],
   "source": [
    "# create a grouped bar plot where y is load time and x is file format and load times are grouped by country code\n",
    "barplot(data=convert_stats_df, x=\"output_format\", y=\"load_time\", title=\"Load time by output format\", xlabel=\"Output format\", ylabel=\"Load time (s)\", hue=\"country_code\")"
   ]
  },
  {
   "cell_type": "code",
   "execution_count": null,
   "metadata": {},
   "outputs": [],
   "source": [
    "# check df columns types\n",
    "convert_stats_df.dtypes"
   ]
  },
  {
   "cell_type": "code",
   "execution_count": null,
   "metadata": {},
   "outputs": [],
   "source": [
    "# modify xticks for geom_count to display 200K ticks up to max geom_count in dataset\n",
    "xticks = [i for i in range(0, max(convert_stats_df[\"geom_count\"]), 200000)]\n",
    "\n",
    "print()\n",
    "# modify yticks for load_time to display 30s ticks up to max load_time in dataset\n",
    "yticks = [f\"{i}s\" for i in range(0, max(convert_stats_df[\"load_time\"].astype(int)), 30)]\n",
    "\n",
    "# create a scatter plot where x is geom count and y is load time and points are colored by file format\n",
    "scatter_plot(data=convert_stats_df, x=\"geom_count\", y=\"load_time\", title=\"Load time by geom count\", xlabel=\"Geom count\", ylabel=\"Load time (s)\", hue=\"output_format\", xticks=xticks, yticks=yticks)"
   ]
  },
  {
   "cell_type": "markdown",
   "metadata": {},
   "source": [
    "### Querying in-memory with GeoPandas \n",
    "\n",
    "Query brainstorming: \n",
    "- simple geometry/building count per country\n",
    "    - visualization: interactive international map with countries shaded or scaled by building count\n",
    "- distribution of square area of buildings per country or per other attribute\n",
    "    - comparison of square area distributions between countries\n",
    "        - how do we compare/match distributions? descriptive statistics? \n",
    "- "
   ]
  },
  {
   "cell_type": "markdown",
   "metadata": {},
   "source": [
    "### Querying from files with DuckDB"
   ]
  },
  {
   "cell_type": "markdown",
   "metadata": {},
   "source": [
    "### Visualization with Basemaps"
   ]
  },
  {
   "cell_type": "markdown",
   "metadata": {},
   "source": [
    "### 3D Data with Overture"
   ]
  },
  {
   "cell_type": "markdown",
   "metadata": {},
   "source": [
    "# Discussion on cloud-native geospatial data formats"
   ]
  },
  {
   "cell_type": "markdown",
   "metadata": {},
   "source": [
    "# References\n",
    "- https://geoparquet.org/\n",
    "- https://geopandas.org/\n",
    "- https://radiant.earth/blog/2023/10/what-is-source-cooperative/\n",
    "- https://guide.cloudnativegeo.org/geoparquet/\n",
    "- https://medium.com/mapular/overture-maps-a-fusion-of-open-and-commercial-data-for-a-new-era-in-mapping-f26b4b56ad9a\n",
    "- https://towardsdatascience.com/geospatial-data-engineering-spatial-indexing-18200ef9160b\n",
    "- https://github.com/opengeospatial/geoparquet/blob/main/format-specs/geoparquet.md \n",
    "- https://medium.com/radiant-earth-insights/geoparquet-1-1-coming-soon-9b72c900fbf2"
   ]
  }
 ],
 "metadata": {
  "kernelspec": {
   "display_name": "geospatial",
   "language": "python",
   "name": "python3"
  },
  "language_info": {
   "codemirror_mode": {
    "name": "ipython",
    "version": 3
   },
   "file_extension": ".py",
   "mimetype": "text/x-python",
   "name": "python",
   "nbconvert_exporter": "python",
   "pygments_lexer": "ipython3",
   "version": "3.11.9"
  }
 },
 "nbformat": 4,
 "nbformat_minor": 2
}
