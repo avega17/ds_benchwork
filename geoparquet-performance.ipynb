{
 "cells": [
  {
   "cell_type": "markdown",
   "metadata": {},
   "source": [
    "# Geospatial file format Performance Evaluation\n",
    "\n",
    "This notebook contains: \n",
    "- An Overview of the GeoParquet standard\n",
    "- Benchmark code for evaluating the GeoParquet file format using the following datasets:\n",
    "    - The [Google-Microsoft combined Open Buildings](https://beta.source.coop/vida/google-microsoft-open-buildings/) for 2D building footprint data\n",
    "    - The [Overture buildings dataset](https://medium.com/mapular/overture-maps-a-fusion-of-open-and-commercial-data-for-a-new-era-in-mapping-f26b4b56ad9a) for 2.5D building data\n",
    "        - Explore the impact of Overture's \n",
    "- A discussion of the current state of cloud-optimized geospatial file formats generally and the potential of GeoParquet specifically"
   ]
  },
  {
   "cell_type": "markdown",
   "metadata": {},
   "source": [
    "# Introduction\n",
    "\n",
    " GeoParquet is [an incubating Open Geospatial Consortium (OGC) standard](https://geoparquet.org/) that simply adds compatible geospatial [geometry types](https://docs.safe.com/fme/html/FME-Form-Documentation/FME-ReadersWriters/geoparquet/Geometry-Support.htm) (MultiPoint, Line, Polygon, etc) to the mature and widely adopted Apache Parquet format, a popular columnar storage format commonly used in big data processing. Parquet is a mature file format and has a wide ecosystem that GeoParquet seamlessly integrates with. This is analogous to how the GeoTIFF raster format adds geospatial metadata to the TIFF standard. GeoParquet is designed to be a simple and efficient way to store geospatial *vector* data in a columnar format, and is designed to be compatible with existing Parquet tools and libraries to enable Cloud _Data Warehouse_ Interopability. \n",
    "\n",
    "A Parquet file is made up of a a set of file chunks called \"row groups\". Row groups are logical groups of columns with the same number of rows. Each of these columns is actually a \"column chunk\" which is a contiguous block of data for that column. The schema across row groups must be consistent, ie the data types and number of columns must be the same for every row group. The new geospatial standard adds some relevant additional metadata such as the geometry's Coordinate Reference System (CRS), additional metadata for geometry columns, and future realeses will enable support for spatial indexing. [Spatial indexing](https://towardsdatascience.com/geospatial-data-engineering-spatial-indexing-18200ef9160b) is a technique used to optimize spatial queries by indexing or partitioning the data based on its geometry features such that you can make spatial queries (e.g. intersection, within, within x distance, etc) more efficiently. \n",
    "\n",
    "<figure>\n",
    "<img src=\"https://miro.medium.com/v2/resize:fit:1400/1*QEQJjtnDb3JQ2xqhzARZZw.png\" style=\"width:100%\">\n",
    "<figcaption align = \"center\"> Visualization of the layout of a Parquet file </figcaption>\n",
    "</figure>\n",
    "\n",
    "Beyond the file data itself, Parquet also stores metadata at the end of the file that describes the internal \"chunking\" of the file, byte ranges of every column chunks, several column statistics, among other things. \n",
    "\n",
    "<figure>\n",
    "<img src=\"https://guide.cloudnativegeo.org/images/geoparquet_layout.png\" style=\"width:100%\">\n",
    "<figcaption align = \"center\"> GeoParquet has the same laylout with additional metadata </figcaption>\n",
    "</figure>\n",
    "\n",
    " \n",
    "\n",
    "## Features and Advantages\n",
    "\n",
    "- Efficient storage and compression: \n",
    "    - leverages the columnar data format which is more efficient for filtering on columns\n",
    "    - GeoParquet is internally compressed by default, and can be configured to optimize decompression time or storage size depending on the use case\n",
    "    - These make it ideal for applications dealing with _massive_ geospatial datasets and cloud data warehouses\n",
    "- Scalability and High-Performance:\n",
    "    - the nature of the file format is well-suited for parallel and/or distributed processing such as in Spark, Dask, or Hadoop\n",
    "    - Support for data partitioning: \n",
    "        - Parquet files can be partitioned by one or more columns\n",
    "        - In the geospatial context this enables efficient spatial queries and filtering (e.g. partitioning by ISO country code) \n",
    "- Optimized for *read-heavy workflows*: \n",
    "    - Parquet is an immutable file format, which means taking advantage of cheap reads, and efficient filtering and aggregation operations\n",
    "        - This is ideal for data warehousing and modern analytic workflows \n",
    "        - Best paired with Analytical Databases like Amazon Redshift, Google BigQuery, or DuckDB\n",
    "        - Ideal for OLAP (Online Analytical Processing) and BI (Business Intelligence) workloads that leverage historical and aggregated data that don't require frequent updates\n",
    " - Interoperability and wide ecosystem:\n",
    "    - GeoParquet is designed to be compatible with existing Parquet readers, tools, and libraries\n",
    "    - Facilitates integration into existing data pipelines and workflows\n",
    "    - Broad compatibility:\n",
    "        - support for multiple spatial reference systems \n",
    "        - support for multiple geometry types and multiple geometry columns\n",
    "        - works with both planar and spherical coordinates \n",
    "        - support for 2D and 3D geometries\n",
    "        \n",
    "## Limitations and Disadvantages\n",
    "\n",
    "- Poorly suited for write-heavy workflows:\n",
    "    - Transactional and CRUD (Create, Read, Update, Delete) operations are not well-suited for Parquet files\n",
    "    - Not recommended for applications that require frequent updates or real-time data ingestion\n",
    "- Not a Silver Bullet for all geospatial data:\n",
    "    - deals only with vector data, not raster data\n",
    "    - storage and compression benefits require a certain scale of data to be realized\n",
    "    - performance overhead for small datasets\n",
    "- Limited support for spatial indexing:\n",
    "    - GeoParquet did not implement spatial indexing in the 1.0.0 release\n",
    "    - This is planned for future release in "
   ]
  },
  {
   "cell_type": "markdown",
   "metadata": {},
   "source": [
    "# Benchmark Results"
   ]
  },
  {
   "cell_type": "code",
   "execution_count": 1,
   "metadata": {},
   "outputs": [
    {
     "name": "stdout",
     "output_type": "stream",
     "text": [
      "Open buildings data will be saved to:  /Volumes/NAS_Base/nas_data/geospatial/google-ms-open-buildings/parquet\n",
      "Conda prefix:  /Volumes/Expanse/mambaforge/envs/geospatial\n",
      "GDAL driver path:  /Volumes/Expanse/mambaforge/envs/geospatial/lib/gdalplugins\n"
     ]
    }
   ],
   "source": [
    "from dotenv import load_dotenv\n",
    "import os\n",
    "import platform\n",
    "\n",
    "# Constants and local env configuration\n",
    "load_dotenv() # take environment variables from .env \n",
    "\n",
    "# use filepath loaded from env   \n",
    "open_buildings_path = os.getenv(\"DATA_DIR\") \n",
    "# make sure to parse as raw string to avoid issues with Windows paths\n",
    "open_buildings_path = r\"{}\".format(open_buildings_path)\n",
    "os.makedirs(os.path.join(open_buildings_path, \"parquet\"), exist_ok=True)\n",
    "print(\"Open buildings data will be saved to: \", os.path.join(open_buildings_path, \"parquet\"))\n",
    "\n",
    "# create env vars dict for use in multiprocessing benchmark scripts\n",
    "env_vars = {\n",
    "    \"CONDA_PREFIX\": os.getenv(\"CONDA_PREFIX\"),\n",
    "    \"GDAL_DRIVER_PATH\": os.getenv(\"GDAL_DRIVER_PATH\"),\n",
    "    # add both of these to the PATH so that the GDAL binaries can be found\n",
    "    \"PATH\": os.getenv(\"PATH\") + os.pathsep + os.getenv(\"CONDA_PREFIX\") + os.pathsep + os.getenv(\"GDAL_DRIVER_PATH\")\n",
    "    \n",
    "}\n",
    "\n",
    "print(\"Conda prefix: \", env_vars[\"CONDA_PREFIX\"])\n",
    "print(\"GDAL driver path: \", env_vars[\"GDAL_DRIVER_PATH\"])\n",
    "\n",
    "# list of ISO country codes to fetch \n",
    "# buildings_countries = [\"CUB\",\"CHN\", \"AUS\", \"DEU\" \"USA\"]\n",
    "buildings_countries = [\"BRB\", \"CAF\", \"JAM\", \"CUB\", \"GTM\", \"AUS\"]\n",
    "# buildings_countries = [\"BRB\"]\n",
    "file_fmts = [\"geojson\", \"shapefile\", \"flatgeobuf\", \"geopackage\"]\n",
    "compression_types = [\"snappy\", \"gzip\", \"brotli\", None]"
   ]
  },
  {
   "cell_type": "markdown",
   "metadata": {},
   "source": [
    "### Filesystem performance tests"
   ]
  },
  {
   "cell_type": "code",
   "execution_count": 2,
   "metadata": {},
   "outputs": [],
   "source": [
    "# import utilities for fetching and processing data, and benchmarking functions\n",
    "from benchmark import *"
   ]
  },
  {
   "cell_type": "code",
   "execution_count": 3,
   "metadata": {},
   "outputs": [
    {
     "name": "stdout",
     "output_type": "stream",
     "text": [
      "BRB.parquet found at /Volumes/NAS_Base/nas_data/geospatial/google-ms-open-buildings/parquet/BRB.parquet\n",
      "Testing load time for BRB.parquet\n",
      "Successfully loaded BRB.parquet into geopandas dataframe\n",
      "Starting conversion from parquet to geojson\n",
      "Successfully converted BRB.parquet to BRB.geojson in 3.82s\n",
      "Converted file size: 100.30 MB\n",
      "Testing load time for BRB.geojson\n",
      "Successfully loaded BRB.parquet into geopandas dataframe\n",
      "Successfully converted BRB gdf to BRB.geojson in 18.76s\n",
      "geojson file size: 100.30 MB\n",
      "file sizes for geojson - ogr/gdal:100.30 MB, geopandas:100.30 MB\n",
      "Starting conversion from parquet to shapefile\n",
      "Successfully converted BRB.parquet to BRB.shp in 1.27s\n",
      "Converted file size: 34.03 MB\n",
      "Testing load time for BRB.shp\n",
      "Successfully loaded BRB.parquet into geopandas dataframe\n"
     ]
    },
    {
     "name": "stderr",
     "output_type": "stream",
     "text": [
      "/Volumes/Expanse/repos/wovenwork/benchwork/ds_benchwork/benchmark.py:156: UserWarning: Column names longer than 10 characters will be truncated when saved to ESRI Shapefile.\n",
      "  input_df.to_file(output_file, driver=FMT_GDAL_DRIVERS[output_format])\n"
     ]
    },
    {
     "name": "stdout",
     "output_type": "stream",
     "text": [
      "Successfully converted BRB gdf to BRB.shp in 16.49s\n",
      "shapefile file size: 34.03 MB\n",
      "file sizes for shapefile - ogr/gdal:34.03 MB, geopandas:34.03 MB\n",
      "Starting conversion from parquet to flatgeobuf\n",
      "Successfully converted BRB.parquet to BRB.fgb in 0.86s\n",
      "Converted file size: 56.87 MB\n",
      "Testing load time for BRB.fgb\n",
      "Successfully loaded BRB.parquet into geopandas dataframe\n",
      "Successfully converted BRB gdf to BRB.fgb in 16.17s\n",
      "flatgeobuf file size: 56.87 MB\n",
      "file sizes for flatgeobuf - ogr/gdal:56.87 MB, geopandas:56.87 MB\n",
      "Starting conversion from parquet to geopackage\n",
      "Successfully converted BRB.parquet to BRB.gpkg in 1.02s\n",
      "Converted file size: 56.48 MB\n",
      "Testing load time for BRB.gpkg\n",
      "Successfully loaded BRB.parquet into geopandas dataframe\n",
      "Successfully converted BRB gdf to BRB.gpkg in 26.75s\n",
      "geopackage file size: 55.50 MB\n",
      "file sizes for geopackage - ogr/gdal:56.48 MB, geopandas:55.50 MB\n",
      "BRB.parquet found at /Volumes/NAS_Base/nas_data/geospatial/google-ms-open-buildings/parquet/BRB.parquet\n",
      "Successfully loaded BRB.parquet into geopandas dataframe\n",
      "Testing load time for BRB_snappy.parquet\n",
      "Testing load time for BRB.parquet\n",
      "Successfully loaded BRB.parquet into geopandas dataframe\n",
      "Successfully saved BRB gdf to geoparquet compressed with snappy in 0.302623987197876 seconds.\n",
      "Converted file size: 20.47144889831543 MB\n",
      "Testing load time for BRB_gzip.parquet\n",
      "Testing load time for BRB.parquet\n",
      "Successfully loaded BRB.parquet into geopandas dataframe\n",
      "Successfully saved BRB gdf to geoparquet compressed with gzip in 1.222632884979248 seconds.\n",
      "Converted file size: 15.824190139770508 MB\n",
      "Testing load time for BRB_brotli.parquet\n",
      "Testing load time for BRB.parquet\n",
      "Successfully loaded BRB.parquet into geopandas dataframe\n",
      "Successfully saved BRB gdf to geoparquet compressed with brotli in 1.9496419429779053 seconds.\n",
      "Converted file size: 14.441882133483887 MB\n",
      "Testing load time for BRB_None.parquet\n",
      "Testing load time for BRB.parquet\n",
      "Successfully loaded BRB.parquet into geopandas dataframe\n",
      "Successfully saved BRB gdf to geoparquet compressed with None in 0.29420900344848633 seconds.\n",
      "Converted file size: 27.163264274597168 MB\n",
      "Saved benchmark stats with 5 records to BRB_conversion_benchmark.csv (0.48 KB)\n",
      "Saved benchmark stats with 4 records to BRB_compression_benchmark.csv (0.37 KB)\n"
     ]
    }
   ],
   "source": [
    "# run full benchmarking pipeline\n",
    "convert_df, compress_df = full_benchmark(country_list=buildings_countries,\n",
    "                                                        file_formats=file_fmts,\n",
    "                                                        compression_types=compression_types,\n",
    "                                                        data_dir=open_buildings_path,\n",
    "                                                        delete_output=True,\n",
    "                                                        test_load=True, \n",
    "                                                        env_vars=env_vars,\n",
    "                                                        multi_proc=True,\n",
    "                                                        save_results=True)"
   ]
  },
  {
   "cell_type": "code",
   "execution_count": 5,
   "metadata": {},
   "outputs": [
    {
     "data": {
      "text/html": [
       "<div>\n",
       "<style scoped>\n",
       "    .dataframe tbody tr th:only-of-type {\n",
       "        vertical-align: middle;\n",
       "    }\n",
       "\n",
       "    .dataframe tbody tr th {\n",
       "        vertical-align: top;\n",
       "    }\n",
       "\n",
       "    .dataframe thead th {\n",
       "        text-align: right;\n",
       "    }\n",
       "</style>\n",
       "<table border=\"1\" class=\"dataframe\">\n",
       "  <thead>\n",
       "    <tr style=\"text-align: right;\">\n",
       "      <th></th>\n",
       "      <th>country_code</th>\n",
       "      <th>output_format</th>\n",
       "      <th>processing_time</th>\n",
       "      <th>file_size</th>\n",
       "      <th>load_time</th>\n",
       "    </tr>\n",
       "  </thead>\n",
       "  <tbody>\n",
       "    <tr>\n",
       "      <th>0</th>\n",
       "      <td>BRB</td>\n",
       "      <td>parquet</td>\n",
       "      <td>[0.0, 0.0]</td>\n",
       "      <td>17.839197</td>\n",
       "      <td>0.273259</td>\n",
       "    </tr>\n",
       "    <tr>\n",
       "      <th>1</th>\n",
       "      <td>BRB</td>\n",
       "      <td>geojson</td>\n",
       "      <td>[3.8217790126800537, 18.756132125854492]</td>\n",
       "      <td>100.300326</td>\n",
       "      <td>17.303624</td>\n",
       "    </tr>\n",
       "    <tr>\n",
       "      <th>2</th>\n",
       "      <td>BRB</td>\n",
       "      <td>shapefile</td>\n",
       "      <td>[1.2699429988861084, 16.48810911178589]</td>\n",
       "      <td>34.027241</td>\n",
       "      <td>13.713605</td>\n",
       "    </tr>\n",
       "    <tr>\n",
       "      <th>3</th>\n",
       "      <td>BRB</td>\n",
       "      <td>flatgeobuf</td>\n",
       "      <td>[0.8581361770629883, 16.17321491241455]</td>\n",
       "      <td>56.874390</td>\n",
       "      <td>13.467678</td>\n",
       "    </tr>\n",
       "    <tr>\n",
       "      <th>4</th>\n",
       "      <td>BRB</td>\n",
       "      <td>geopackage</td>\n",
       "      <td>[1.0244767665863037, 26.75497817993164]</td>\n",
       "      <td>56.476562</td>\n",
       "      <td>13.629610</td>\n",
       "    </tr>\n",
       "  </tbody>\n",
       "</table>\n",
       "</div>"
      ],
      "text/plain": [
       "  country_code output_format                           processing_time  \\\n",
       "0          BRB       parquet                                [0.0, 0.0]   \n",
       "1          BRB       geojson  [3.8217790126800537, 18.756132125854492]   \n",
       "2          BRB     shapefile   [1.2699429988861084, 16.48810911178589]   \n",
       "3          BRB    flatgeobuf   [0.8581361770629883, 16.17321491241455]   \n",
       "4          BRB    geopackage   [1.0244767665863037, 26.75497817993164]   \n",
       "\n",
       "    file_size  load_time  \n",
       "0   17.839197   0.273259  \n",
       "1  100.300326  17.303624  \n",
       "2   34.027241  13.713605  \n",
       "3   56.874390  13.467678  \n",
       "4   56.476562  13.629610  "
      ]
     },
     "execution_count": 5,
     "metadata": {},
     "output_type": "execute_result"
    }
   ],
   "source": [
    "convert_df"
   ]
  },
  {
   "cell_type": "code",
   "execution_count": 6,
   "metadata": {},
   "outputs": [
    {
     "data": {
      "text/html": [
       "<div>\n",
       "<style scoped>\n",
       "    .dataframe tbody tr th:only-of-type {\n",
       "        vertical-align: middle;\n",
       "    }\n",
       "\n",
       "    .dataframe tbody tr th {\n",
       "        vertical-align: top;\n",
       "    }\n",
       "\n",
       "    .dataframe thead th {\n",
       "        text-align: right;\n",
       "    }\n",
       "</style>\n",
       "<table border=\"1\" class=\"dataframe\">\n",
       "  <thead>\n",
       "    <tr style=\"text-align: right;\">\n",
       "      <th></th>\n",
       "      <th>country_code</th>\n",
       "      <th>compression_type</th>\n",
       "      <th>compression_time</th>\n",
       "      <th>compression_size</th>\n",
       "      <th>load_time</th>\n",
       "      <th>geom_count</th>\n",
       "    </tr>\n",
       "  </thead>\n",
       "  <tbody>\n",
       "    <tr>\n",
       "      <th>0</th>\n",
       "      <td>BRB</td>\n",
       "      <td>snappy</td>\n",
       "      <td>0.302624</td>\n",
       "      <td>20.471449</td>\n",
       "      <td>0.221945</td>\n",
       "      <td>243271</td>\n",
       "    </tr>\n",
       "    <tr>\n",
       "      <th>1</th>\n",
       "      <td>BRB</td>\n",
       "      <td>gzip</td>\n",
       "      <td>1.222633</td>\n",
       "      <td>15.824190</td>\n",
       "      <td>0.264194</td>\n",
       "      <td>243271</td>\n",
       "    </tr>\n",
       "    <tr>\n",
       "      <th>2</th>\n",
       "      <td>BRB</td>\n",
       "      <td>brotli</td>\n",
       "      <td>1.949642</td>\n",
       "      <td>14.441882</td>\n",
       "      <td>0.258168</td>\n",
       "      <td>243271</td>\n",
       "    </tr>\n",
       "    <tr>\n",
       "      <th>3</th>\n",
       "      <td>BRB</td>\n",
       "      <td>None</td>\n",
       "      <td>0.294209</td>\n",
       "      <td>27.163264</td>\n",
       "      <td>0.182121</td>\n",
       "      <td>243271</td>\n",
       "    </tr>\n",
       "  </tbody>\n",
       "</table>\n",
       "</div>"
      ],
      "text/plain": [
       "  country_code compression_type  compression_time  compression_size  \\\n",
       "0          BRB           snappy          0.302624         20.471449   \n",
       "1          BRB             gzip          1.222633         15.824190   \n",
       "2          BRB           brotli          1.949642         14.441882   \n",
       "3          BRB             None          0.294209         27.163264   \n",
       "\n",
       "   load_time  geom_count  \n",
       "0   0.221945      243271  \n",
       "1   0.264194      243271  \n",
       "2   0.258168      243271  \n",
       "3   0.182121      243271  "
      ]
     },
     "execution_count": 6,
     "metadata": {},
     "output_type": "execute_result"
    }
   ],
   "source": [
    "compress_df"
   ]
  },
  {
   "cell_type": "code",
   "execution_count": 23,
   "metadata": {},
   "outputs": [
    {
     "data": {
      "text/html": [
       "<div>\n",
       "<style scoped>\n",
       "    .dataframe tbody tr th:only-of-type {\n",
       "        vertical-align: middle;\n",
       "    }\n",
       "\n",
       "    .dataframe tbody tr th {\n",
       "        vertical-align: top;\n",
       "    }\n",
       "\n",
       "    .dataframe thead th {\n",
       "        text-align: right;\n",
       "    }\n",
       "</style>\n",
       "<table border=\"1\" class=\"dataframe\">\n",
       "  <thead>\n",
       "    <tr style=\"text-align: right;\">\n",
       "      <th></th>\n",
       "      <th>country_code</th>\n",
       "      <th>output_format</th>\n",
       "      <th>processing_time</th>\n",
       "      <th>file_size</th>\n",
       "      <th>load_time</th>\n",
       "      <th>geom_count_x</th>\n",
       "      <th>geom_count_y</th>\n",
       "      <th>geom_count</th>\n",
       "    </tr>\n",
       "  </thead>\n",
       "  <tbody>\n",
       "    <tr>\n",
       "      <th>0</th>\n",
       "      <td>BRB</td>\n",
       "      <td>geoparquet</td>\n",
       "      <td>[0.0, 0.0]</td>\n",
       "      <td>17.839197</td>\n",
       "      <td>0.273259</td>\n",
       "      <td>243271</td>\n",
       "      <td>243271</td>\n",
       "      <td>243271</td>\n",
       "    </tr>\n",
       "    <tr>\n",
       "      <th>1</th>\n",
       "      <td>BRB</td>\n",
       "      <td>geoparquet</td>\n",
       "      <td>[0.0, 0.0]</td>\n",
       "      <td>17.839197</td>\n",
       "      <td>0.273259</td>\n",
       "      <td>243271</td>\n",
       "      <td>243271</td>\n",
       "      <td>243271</td>\n",
       "    </tr>\n",
       "    <tr>\n",
       "      <th>2</th>\n",
       "      <td>BRB</td>\n",
       "      <td>geoparquet</td>\n",
       "      <td>[0.0, 0.0]</td>\n",
       "      <td>17.839197</td>\n",
       "      <td>0.273259</td>\n",
       "      <td>243271</td>\n",
       "      <td>243271</td>\n",
       "      <td>243271</td>\n",
       "    </tr>\n",
       "    <tr>\n",
       "      <th>3</th>\n",
       "      <td>BRB</td>\n",
       "      <td>geoparquet</td>\n",
       "      <td>[0.0, 0.0]</td>\n",
       "      <td>17.839197</td>\n",
       "      <td>0.273259</td>\n",
       "      <td>243271</td>\n",
       "      <td>243271</td>\n",
       "      <td>243271</td>\n",
       "    </tr>\n",
       "    <tr>\n",
       "      <th>4</th>\n",
       "      <td>BRB</td>\n",
       "      <td>geoparquet</td>\n",
       "      <td>[0.0, 0.0]</td>\n",
       "      <td>17.839197</td>\n",
       "      <td>0.273259</td>\n",
       "      <td>243271</td>\n",
       "      <td>243271</td>\n",
       "      <td>243271</td>\n",
       "    </tr>\n",
       "    <tr>\n",
       "      <th>...</th>\n",
       "      <td>...</td>\n",
       "      <td>...</td>\n",
       "      <td>...</td>\n",
       "      <td>...</td>\n",
       "      <td>...</td>\n",
       "      <td>...</td>\n",
       "      <td>...</td>\n",
       "      <td>...</td>\n",
       "    </tr>\n",
       "    <tr>\n",
       "      <th>315</th>\n",
       "      <td>BRB</td>\n",
       "      <td>geopackage</td>\n",
       "      <td>[1.0244767665863037, 26.75497817993164]</td>\n",
       "      <td>56.476562</td>\n",
       "      <td>13.629610</td>\n",
       "      <td>243271</td>\n",
       "      <td>243271</td>\n",
       "      <td>243271</td>\n",
       "    </tr>\n",
       "    <tr>\n",
       "      <th>316</th>\n",
       "      <td>BRB</td>\n",
       "      <td>geopackage</td>\n",
       "      <td>[1.0244767665863037, 26.75497817993164]</td>\n",
       "      <td>56.476562</td>\n",
       "      <td>13.629610</td>\n",
       "      <td>243271</td>\n",
       "      <td>243271</td>\n",
       "      <td>243271</td>\n",
       "    </tr>\n",
       "    <tr>\n",
       "      <th>317</th>\n",
       "      <td>BRB</td>\n",
       "      <td>geopackage</td>\n",
       "      <td>[1.0244767665863037, 26.75497817993164]</td>\n",
       "      <td>56.476562</td>\n",
       "      <td>13.629610</td>\n",
       "      <td>243271</td>\n",
       "      <td>243271</td>\n",
       "      <td>243271</td>\n",
       "    </tr>\n",
       "    <tr>\n",
       "      <th>318</th>\n",
       "      <td>BRB</td>\n",
       "      <td>geopackage</td>\n",
       "      <td>[1.0244767665863037, 26.75497817993164]</td>\n",
       "      <td>56.476562</td>\n",
       "      <td>13.629610</td>\n",
       "      <td>243271</td>\n",
       "      <td>243271</td>\n",
       "      <td>243271</td>\n",
       "    </tr>\n",
       "    <tr>\n",
       "      <th>319</th>\n",
       "      <td>BRB</td>\n",
       "      <td>geopackage</td>\n",
       "      <td>[1.0244767665863037, 26.75497817993164]</td>\n",
       "      <td>56.476562</td>\n",
       "      <td>13.629610</td>\n",
       "      <td>243271</td>\n",
       "      <td>243271</td>\n",
       "      <td>243271</td>\n",
       "    </tr>\n",
       "  </tbody>\n",
       "</table>\n",
       "<p>320 rows × 8 columns</p>\n",
       "</div>"
      ],
      "text/plain": [
       "    country_code output_format                          processing_time  \\\n",
       "0            BRB    geoparquet                               [0.0, 0.0]   \n",
       "1            BRB    geoparquet                               [0.0, 0.0]   \n",
       "2            BRB    geoparquet                               [0.0, 0.0]   \n",
       "3            BRB    geoparquet                               [0.0, 0.0]   \n",
       "4            BRB    geoparquet                               [0.0, 0.0]   \n",
       "..           ...           ...                                      ...   \n",
       "315          BRB    geopackage  [1.0244767665863037, 26.75497817993164]   \n",
       "316          BRB    geopackage  [1.0244767665863037, 26.75497817993164]   \n",
       "317          BRB    geopackage  [1.0244767665863037, 26.75497817993164]   \n",
       "318          BRB    geopackage  [1.0244767665863037, 26.75497817993164]   \n",
       "319          BRB    geopackage  [1.0244767665863037, 26.75497817993164]   \n",
       "\n",
       "     file_size  load_time  geom_count_x  geom_count_y  geom_count  \n",
       "0    17.839197   0.273259        243271        243271      243271  \n",
       "1    17.839197   0.273259        243271        243271      243271  \n",
       "2    17.839197   0.273259        243271        243271      243271  \n",
       "3    17.839197   0.273259        243271        243271      243271  \n",
       "4    17.839197   0.273259        243271        243271      243271  \n",
       "..         ...        ...           ...           ...         ...  \n",
       "315  56.476562  13.629610        243271        243271      243271  \n",
       "316  56.476562  13.629610        243271        243271      243271  \n",
       "317  56.476562  13.629610        243271        243271      243271  \n",
       "318  56.476562  13.629610        243271        243271      243271  \n",
       "319  56.476562  13.629610        243271        243271      243271  \n",
       "\n",
       "[320 rows x 8 columns]"
      ]
     },
     "execution_count": 23,
     "metadata": {},
     "output_type": "execute_result"
    }
   ],
   "source": [
    "# in output format column, change \"parquet\" to \"geoparquet\"\n",
    "convert_df[\"output_format\"] = convert_df[\"output_format\"].apply(lambda x: \"geoparquet\" if x == \"parquet\" else x)\n",
    "# add geom_count column to convert_stats_df by joining on country_code\n",
    "convert_df = convert_df.merge(compress_df[[\"country_code\", \"geom_count\"]], on=\"country_code\")\n",
    "# display updated convert_stats_df  \n",
    "convert_df"
   ]
  },
  {
   "cell_type": "code",
   "execution_count": 24,
   "metadata": {},
   "outputs": [
    {
     "name": "stdout",
     "output_type": "stream",
     "text": [
      "Dataframe info for Conversion Stats:\n",
      "<class 'pandas.core.frame.DataFrame'>\n",
      "RangeIndex: 320 entries, 0 to 319\n",
      "Data columns (total 8 columns):\n",
      " #   Column           Non-Null Count  Dtype  \n",
      "---  ------           --------------  -----  \n",
      " 0   country_code     320 non-null    object \n",
      " 1   output_format    320 non-null    object \n",
      " 2   processing_time  320 non-null    object \n",
      " 3   file_size        320 non-null    float64\n",
      " 4   load_time        320 non-null    float64\n",
      " 5   geom_count_x     320 non-null    int64  \n",
      " 6   geom_count_y     320 non-null    int64  \n",
      " 7   geom_count       320 non-null    int64  \n",
      "dtypes: float64(2), int64(3), object(3)\n",
      "memory usage: 20.1+ KB\n",
      "None\n",
      "  country_code output_format processing_time  file_size  load_time  \\\n",
      "0          BRB    geoparquet      [0.0, 0.0]  17.839197   0.273259   \n",
      "1          BRB    geoparquet      [0.0, 0.0]  17.839197   0.273259   \n",
      "2          BRB    geoparquet      [0.0, 0.0]  17.839197   0.273259   \n",
      "3          BRB    geoparquet      [0.0, 0.0]  17.839197   0.273259   \n",
      "4          BRB    geoparquet      [0.0, 0.0]  17.839197   0.273259   \n",
      "\n",
      "   geom_count_x  geom_count_y  geom_count  \n",
      "0        243271        243271      243271  \n",
      "1        243271        243271      243271  \n",
      "2        243271        243271      243271  \n",
      "3        243271        243271      243271  \n",
      "4        243271        243271      243271  \n"
     ]
    }
   ],
   "source": [
    "convert_df.name = \"Conversion Stats\"\n",
    "# save to csv with country_codes in filename\n",
    "country_codes = \"_\".join(convert_df[\"country_code\"].unique())\n",
    "convert_df.to_csv(f\"{open_buildings_path}/benchmark_{country_codes}_conversion.csv\", index=False)\n",
    "pretty_print_df_info(convert_df)"
   ]
  },
  {
   "cell_type": "markdown",
   "metadata": {},
   "source": [
    "### Plotting performance results"
   ]
  },
  {
   "cell_type": "code",
   "execution_count": 25,
   "metadata": {},
   "outputs": [],
   "source": [
    "# functions for plotting stats with seaborn\n",
    "\n",
    "import seaborn as sns\n",
    "\n",
    "def barplot(data, x, y, title, xlabel, ylabel, hue=None, orient='v', color=None, xticks=None, yticks=None, xticklabels=None, yticklabels=None):\n",
    "    # create horizontal barplot\n",
    "    ax = sns.barplot(data=data, x=x, y=y, hue=hue, orient=orient, color=color)\n",
    "    ax.set_xlabel(xlabel)\n",
    "    ax.set_ylabel(ylabel)\n",
    "    \n",
    "    if xticks is not None:\n",
    "        ax.set_xticks(xticks)\n",
    "    if yticks is not None:\n",
    "        ax.set_yticks(yticks)    \n",
    "    if xticklabels is not None:\n",
    "        ax.set_xticklabels(xticklabels)\n",
    "    if yticklabels is not None:\n",
    "        ax.set_yticklabels(yticklabels)\n",
    "\n",
    "def scatter_plot(data, x, y, title, xlabel, ylabel, hue=None, xticks=None, yticks=None, xticklabels=None, yticklabels=None):\n",
    "    # create scatter plot\n",
    "    ax = sns.scatterplot(data=data, x=x, y=y, hue=hue)\n",
    "    ax.set_xlabel(xlabel)\n",
    "    ax.set_ylabel(ylabel)\n",
    "    \n",
    "    if xticks is not None:\n",
    "        ax.set_xticklabels(xticks)\n",
    "    if yticks is not None:\n",
    "        ax.set_yticklabels(yticks)\n",
    "    if xticklabels is not None:\n",
    "        ax.set_xticklabels(xticklabels)\n",
    "    if yticklabels is not None:\n",
    "        ax.set_yticklabels(yticklabels)"
   ]
  },
  {
   "cell_type": "code",
   "execution_count": 26,
   "metadata": {},
   "outputs": [
    {
     "data": {
      "image/png": "[encoded data removed]",
      "text/plain": [
       "<Figure size 640x480 with 1 Axes>"
      ]
     },
     "metadata": {},
     "output_type": "display_data"
    }
   ],
   "source": [
    "# create a grouped bar plot where y is file size and x is file format and file sizes are grouped by country code\n",
    "barplot(data=convert_df, x=\"output_format\", y=\"file_size\", title=\"File size by output format\", xlabel=\"Output format\", ylabel=\"File size (MB)\", hue=\"country_code\")"
   ]
  },
  {
   "cell_type": "code",
   "execution_count": 27,
   "metadata": {},
   "outputs": [
    {
     "data": {
      "image/png": "[encoded data removed]",
      "text/plain": [
       "<Figure size 640x480 with 1 Axes>"
      ]
     },
     "metadata": {},
     "output_type": "display_data"
    }
   ],
   "source": [
    "# create a grouped bar plot where y is load time and x is file format and load times are grouped by country code\n",
    "barplot(data=convert_df, x=\"output_format\", y=\"load_time\", title=\"Load time by output format\", xlabel=\"Output format\", ylabel=\"Load time (s)\", hue=\"country_code\")"
   ]
  },
  {
   "cell_type": "code",
   "execution_count": 28,
   "metadata": {},
   "outputs": [
    {
     "name": "stdout",
     "output_type": "stream",
     "text": [
      "\n"
     ]
    },
    {
     "name": "stderr",
     "output_type": "stream",
     "text": [
      "/var/folders/71/3fjqkxbs6w3frshvsfj30fmm0000gn/T/ipykernel_29854/3378228224.py:27: UserWarning: set_ticklabels() should only be used with a fixed number of ticks, i.e. after set_ticks() or using a FixedLocator.\n",
      "  ax.set_xticklabels(xticks)\n",
      "/var/folders/71/3fjqkxbs6w3frshvsfj30fmm0000gn/T/ipykernel_29854/3378228224.py:29: UserWarning: set_ticklabels() should only be used with a fixed number of ticks, i.e. after set_ticks() or using a FixedLocator.\n",
      "  ax.set_yticklabels(yticks)\n",
      "/var/folders/71/3fjqkxbs6w3frshvsfj30fmm0000gn/T/ipykernel_29854/3378228224.py:31: UserWarning: set_ticklabels() should only be used with a fixed number of ticks, i.e. after set_ticks() or using a FixedLocator.\n",
      "  ax.set_xticklabels(xticklabels)\n",
      "/var/folders/71/3fjqkxbs6w3frshvsfj30fmm0000gn/T/ipykernel_29854/3378228224.py:33: UserWarning: set_ticklabels() should only be used with a fixed number of ticks, i.e. after set_ticks() or using a FixedLocator.\n",
      "  ax.set_yticklabels(yticklabels)\n"
     ]
    },
    {
     "data": {
      "image/png": "[encoded data removed]",
      "text/plain": [
       "<Figure size 640x480 with 1 Axes>"
      ]
     },
     "metadata": {},
     "output_type": "display_data"
    }
   ],
   "source": [
    "# modify xticks for geom_count to display 200K ticks up to max geom_count in dataset\n",
    "xticks = [i for i in range(0, max(convert_df[\"geom_count\"]), 200000)]\n",
    "xticklabels = [f\"{i/1000}K\" for i in xticks]\n",
    "\n",
    "print()\n",
    "# modify yticks for load_time to display 30s ticks up to max load_time in dataset\n",
    "yticks = [f\"{i}s\" for i in range(0, max(convert_df[\"load_time\"].astype(int)), 30)]\n",
    "yticklabels = [f\"{i}s\" for i in range(0, max(convert_df[\"load_time\"].astype(int)), 30)]\n",
    "\n",
    "# create a scatter plot where x is geom count and y is load time and points are colored by file format\n",
    "scatter_plot(data=convert_df, x=\"geom_count\", y=\"load_time\", title=\"Load time by geom count\", xlabel=\"Geom count\", ylabel=\"Load time (s)\", hue=\"output_format\", xticks=xticks, yticks=yticks, xticklabels=xticklabels, yticklabels=yticklabels)"
   ]
  },
  {
   "cell_type": "markdown",
   "metadata": {},
   "source": [
    "### Querying in-memory with GeoPandas \n",
    "\n",
    "Query brainstorming: \n",
    "- simple geometry/building count per country\n",
    "    - visualization: interactive international map with countries shaded or scaled by building count\n",
    "- distribution of square area of buildings per country or per other attribute\n",
    "    - comparison of square area distributions between countries\n",
    "        - how do we compare/match distributions? descriptive statistics? \n",
    "- "
   ]
  },
  {
   "cell_type": "markdown",
   "metadata": {},
   "source": [
    "### Querying from files with DuckDB"
   ]
  },
  {
   "cell_type": "markdown",
   "metadata": {},
   "source": [
    "### Visualization with Basemaps"
   ]
  },
  {
   "cell_type": "markdown",
   "metadata": {},
   "source": [
    "### 3D Data with Overture"
   ]
  },
  {
   "cell_type": "markdown",
   "metadata": {},
   "source": [
    "# Discussion on cloud-native geospatial data formats"
   ]
  },
  {
   "cell_type": "markdown",
   "metadata": {},
   "source": [
    "# References\n",
    "- https://geoparquet.org/\n",
    "- https://geopandas.org/\n",
    "- https://radiant.earth/blog/2023/10/what-is-source-cooperative/\n",
    "- https://guide.cloudnativegeo.org/geoparquet/\n",
    "- https://medium.com/mapular/overture-maps-a-fusion-of-open-and-commercial-data-for-a-new-era-in-mapping-f26b4b56ad9a\n",
    "- https://towardsdatascience.com/geospatial-data-engineering-spatial-indexing-18200ef9160b\n",
    "- https://github.com/opengeospatial/geoparquet/blob/main/format-specs/geoparquet.md \n",
    "- https://medium.com/radiant-earth-insights/geoparquet-1-1-coming-soon-9b72c900fbf2"
   ]
  }
 ],
 "metadata": {
  "kernelspec": {
   "display_name": "geospatial",
   "language": "python",
   "name": "python3"
  },
  "language_info": {
   "codemirror_mode": {
    "name": "ipython",
    "version": 3
   },
   "file_extension": ".py",
   "mimetype": "text/x-python",
   "name": "python",
   "nbconvert_exporter": "python",
   "pygments_lexer": "ipython3",
   "version": "3.10.14"
  }
 },
 "nbformat": 4,
 "nbformat_minor": 2
}
